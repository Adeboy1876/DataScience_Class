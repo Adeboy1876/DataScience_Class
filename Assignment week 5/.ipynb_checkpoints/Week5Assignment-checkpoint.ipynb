{
 "cells": [
  {
   "cell_type": "code",
   "execution_count": 6,
   "id": "bb9561c2",
   "metadata": {},
   "outputs": [],
   "source": [
    "file = open(\"myfile.txt\", \"w\")\n",
    "i = 1\n",
    "j = 2\n",
    "times = (\"2 *\")\n",
    "equals = (\"=\")\n",
    "while i<=12:\n",
    "    file.write(\"%s %d %s %d\\n\" % (times, i, equals, j))\n",
    "    i+=1\n",
    "    j+=2\n",
    "\n",
    "file.close()"
   ]
  }
 ],
 "metadata": {
  "kernelspec": {
   "display_name": "Python 3",
   "language": "python",
   "name": "python3"
  },
  "language_info": {
   "codemirror_mode": {
    "name": "ipython",
    "version": 3
   },
   "file_extension": ".py",
   "mimetype": "text/x-python",
   "name": "python",
   "nbconvert_exporter": "python",
   "pygments_lexer": "ipython3",
   "version": "3.8.8"
  }
 },
 "nbformat": 4,
 "nbformat_minor": 5
}
