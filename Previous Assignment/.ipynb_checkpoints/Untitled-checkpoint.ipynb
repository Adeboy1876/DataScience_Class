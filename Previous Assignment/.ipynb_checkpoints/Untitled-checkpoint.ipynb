{
 "cells": [
  {
   "cell_type": "markdown",
   "id": "686fb8a7",
   "metadata": {},
   "source": [
    "# Write a while and for loop statement to perform the following"
   ]
  },
  {
   "cell_type": "markdown",
   "id": "c1a792a8",
   "metadata": {},
   "source": [
    "## 1. loop statement that prints out numbers between 1 and 20"
   ]
  },
  {
   "cell_type": "markdown",
   "id": "dc93ed01",
   "metadata": {},
   "source": [
    "### While Loop"
   ]
  },
  {
   "cell_type": "code",
   "execution_count": null,
   "id": "9cf20aea",
   "metadata": {},
   "outputs": [],
   "source": [
    "i = 1\n",
    "while 1<=20:\n",
    "    i+=1\n",
    "    print(i)"
   ]
  }
 ],
 "metadata": {
  "kernelspec": {
   "display_name": "Python 3",
   "language": "python",
   "name": "python3"
  },
  "language_info": {
   "codemirror_mode": {
    "name": "ipython",
    "version": 3
   },
   "file_extension": ".py",
   "mimetype": "text/x-python",
   "name": "python",
   "nbconvert_exporter": "python",
   "pygments_lexer": "ipython3",
   "version": "3.8.8"
  }
 },
 "nbformat": 4,
 "nbformat_minor": 5
}
