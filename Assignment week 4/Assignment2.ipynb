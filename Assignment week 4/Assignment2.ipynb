{
 "cells": [
  {
   "cell_type": "markdown",
   "id": "38069818",
   "metadata": {},
   "source": [
    "# Write a program that appends items in apple list to fruit list using append method"
   ]
  },
  {
   "cell_type": "code",
   "execution_count": 2,
   "id": "51cd25d9",
   "metadata": {},
   "outputs": [],
   "source": [
    "fruit=[\"apple\"]"
   ]
  },
  {
   "cell_type": "code",
   "execution_count": 3,
   "id": "65cfa012",
   "metadata": {},
   "outputs": [],
   "source": [
    "apple = [\"apple1\",\"apple2\",\"apple3\",\"apple4\"]"
   ]
  },
  {
   "cell_type": "code",
   "execution_count": 4,
   "id": "1cda6ba1",
   "metadata": {},
   "outputs": [],
   "source": [
    "fruit.append(apple)"
   ]
  },
  {
   "cell_type": "code",
   "execution_count": 5,
   "id": "8571d249",
   "metadata": {},
   "outputs": [
    {
     "name": "stdout",
     "output_type": "stream",
     "text": [
      "['apple', ['apple1', 'apple2', 'apple3', 'apple4']]\n"
     ]
    }
   ],
   "source": [
    "print(fruit)"
   ]
  }
 ],
 "metadata": {
  "kernelspec": {
   "display_name": "Python 3",
   "language": "python",
   "name": "python3"
  },
  "language_info": {
   "codemirror_mode": {
    "name": "ipython",
    "version": 3
   },
   "file_extension": ".py",
   "mimetype": "text/x-python",
   "name": "python",
   "nbconvert_exporter": "python",
   "pygments_lexer": "ipython3",
   "version": "3.8.8"
  }
 },
 "nbformat": 4,
 "nbformat_minor": 5
}
