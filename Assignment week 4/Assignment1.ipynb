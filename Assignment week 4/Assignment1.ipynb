{
 "cells": [
  {
   "cell_type": "markdown",
   "id": "44752741",
   "metadata": {},
   "source": [
    "# Week 4 - Assignment 1 "
   ]
  },
  {
   "cell_type": "markdown",
   "id": "d9ffb321",
   "metadata": {},
   "source": [
    "### 1. fromkeys()\n",
    "Returns a dictionary with the specified keys and values"
   ]
  },
  {
   "cell_type": "code",
   "execution_count": 5,
   "id": "63445c26",
   "metadata": {},
   "outputs": [
    {
     "name": "stdout",
     "output_type": "stream",
     "text": [
      "{'name': 'nissan', 'brand': 'nissan', 'year': 'nissan'}\n"
     ]
    }
   ],
   "source": [
    "car = {\n",
    "    \"name\":\"toyota\",\n",
    "    \"brand\":\"venza\",\n",
    "    \"year\":\"2021\"\n",
    "}\n",
    "\n",
    "print(car.fromkeys(car,\"nissan\"))"
   ]
  },
  {
   "cell_type": "markdown",
   "id": "32877f46",
   "metadata": {},
   "source": [
    "### 2. get()\n",
    "Returns the value of the specified key"
   ]
  },
  {
   "cell_type": "code",
   "execution_count": 6,
   "id": "e4263b01",
   "metadata": {},
   "outputs": [
    {
     "name": "stdout",
     "output_type": "stream",
     "text": [
      "venza\n"
     ]
    }
   ],
   "source": [
    "print(car.get(\"brand\"))"
   ]
  },
  {
   "cell_type": "markdown",
   "id": "b4d42528",
   "metadata": {},
   "source": [
    "### 3. items()\n",
    "Returns a list containing a tuple for each key value pair"
   ]
  },
  {
   "cell_type": "code",
   "execution_count": 7,
   "id": "7eee14fb",
   "metadata": {},
   "outputs": [
    {
     "name": "stdout",
     "output_type": "stream",
     "text": [
      "dict_items([('name', 'toyota'), ('brand', 'venza'), ('year', '2021')])\n"
     ]
    }
   ],
   "source": [
    "print(car.items())"
   ]
  },
  {
   "cell_type": "markdown",
   "id": "c9c2d379",
   "metadata": {},
   "source": [
    "### 4. keys()\n",
    "Returns a list containing dictionary keys"
   ]
  },
  {
   "cell_type": "code",
   "execution_count": 8,
   "id": "16ffe744",
   "metadata": {},
   "outputs": [
    {
     "name": "stdout",
     "output_type": "stream",
     "text": [
      "dict_keys(['name', 'brand', 'year'])\n"
     ]
    }
   ],
   "source": [
    "print(car.keys())"
   ]
  },
  {
   "cell_type": "markdown",
   "id": "78575941",
   "metadata": {},
   "source": [
    "### 5. pop()\n",
    "Removes element with the specified key"
   ]
  },
  {
   "cell_type": "code",
   "execution_count": 20,
   "id": "d83e6bf2",
   "metadata": {},
   "outputs": [
    {
     "name": "stdout",
     "output_type": "stream",
     "text": [
      "{'name': 'toyota', 'year': '2021'}\n"
     ]
    }
   ],
   "source": [
    "car.pop(\"brand\")\n",
    "print(car)"
   ]
  },
  {
   "cell_type": "markdown",
   "id": "40795c04",
   "metadata": {},
   "source": [
    "### 6. popitem()\n",
    "Removes the last inserted key value pair"
   ]
  },
  {
   "cell_type": "code",
   "execution_count": 21,
   "id": "f8555d65",
   "metadata": {},
   "outputs": [
    {
     "name": "stdout",
     "output_type": "stream",
     "text": [
      "{'name': 'toyota'}\n"
     ]
    }
   ],
   "source": [
    "car.popitem()\n",
    "print(car)"
   ]
  },
  {
   "cell_type": "markdown",
   "id": "d398d0f3",
   "metadata": {},
   "source": [
    "### 7. setdefault()\n",
    "Returns value of a specified key; if key doesnt exist, inserts the key with the specified value"
   ]
  },
  {
   "cell_type": "code",
   "execution_count": 23,
   "id": "1dd62307",
   "metadata": {},
   "outputs": [
    {
     "name": "stdout",
     "output_type": "stream",
     "text": [
      "{'name': 'toyota', 'brand': 'corolla'}\n"
     ]
    }
   ],
   "source": [
    "car.setdefault(\"brand\",\"corolla\")\n",
    "print(car)"
   ]
  },
  {
   "cell_type": "markdown",
   "id": "131e9744",
   "metadata": {},
   "source": [
    "### 8. update()\n",
    "Updates the dictionary with the specified key calue pairs"
   ]
  },
  {
   "cell_type": "code",
   "execution_count": 25,
   "id": "5dcf6641",
   "metadata": {},
   "outputs": [
    {
     "name": "stdout",
     "output_type": "stream",
     "text": [
      "{'name': 'toyota', 'brand': 'corolla', 'year': '2020'}\n"
     ]
    }
   ],
   "source": [
    "car.update({\"year\":\"2020\"})\n",
    "print(car)"
   ]
  },
  {
   "cell_type": "markdown",
   "id": "f751fbbc",
   "metadata": {},
   "source": [
    "### 9. values()\n",
    "Returns a list of all the values in the dictionary"
   ]
  },
  {
   "cell_type": "code",
   "execution_count": 26,
   "id": "08b0081c",
   "metadata": {},
   "outputs": [
    {
     "name": "stdout",
     "output_type": "stream",
     "text": [
      "dict_values(['toyota', 'corolla', '2020'])\n"
     ]
    }
   ],
   "source": [
    "print(car.values())"
   ]
  }
 ],
 "metadata": {
  "kernelspec": {
   "display_name": "Python 3",
   "language": "python",
   "name": "python3"
  },
  "language_info": {
   "codemirror_mode": {
    "name": "ipython",
    "version": 3
   },
   "file_extension": ".py",
   "mimetype": "text/x-python",
   "name": "python",
   "nbconvert_exporter": "python",
   "pygments_lexer": "ipython3",
   "version": "3.8.8"
  }
 },
 "nbformat": 4,
 "nbformat_minor": 5
}
